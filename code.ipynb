{
  "nbformat": 4,
  "nbformat_minor": 0,
  "metadata": {
    "colab": {
      "name": "Untitled0.ipynb",
      "provenance": [],
      "collapsed_sections": []
    },
    "kernelspec": {
      "name": "python3",
      "display_name": "Python 3"
    },
    "language_info": {
      "name": "python"
    }
  },
  "cells": [
    {
      "cell_type": "code",
      "execution_count": null,
      "metadata": {
        "id": "bknfc5clf09E"
      },
      "outputs": [],
      "source": [
        "from PIL import Image, ImageDraw, ImageFont\n",
        "\n",
        "\n",
        "# Settings\n",
        "W, H = (224, 224)\n",
        "\n",
        "# Font\n",
        "font = ImageFont.truetype(\"/home/clay/.fonts/Ubuntu.ttf\", 224, encoding='utf-8')\n",
        "\n",
        "# Image\n",
        "image = Image.new(\"RGB\", (W, H), \"black\")\n",
        "draw = ImageDraw.Draw(image)\n",
        "offset_w, offset_h = font.getoffset(\"A\")\n",
        "w, h = draw.textsize(\"A\", font=font)\n",
        "pos = ((W-w-offset_w)/2, (H-h-offset_h)/2)\n",
        "\n",
        "# Draw\n",
        "draw.text(pos, \"A\", \"white\", font=font)\n",
        "\n",
        "# Save png file\n",
        "image.save(\"test.png\")"
      ]
    }
  ]
}